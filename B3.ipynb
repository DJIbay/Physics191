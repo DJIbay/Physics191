import glob, os
import pandas as pd
import numpy as np
import matplotlib.pyplot as plt
from matplotlib.colors import ListedColormap
from mpl_toolkits.axes_grid1 import make_axes_locatable
from scipy.signal import find_peaks

# Convert wavelength to RGB (approximation based on visible spectrum)
def wavelength_to_rgb(wavelength):
    gamma = 0.8
    factor = 0.0
    R = G = B = 0.0
    if 380 <= wavelength <= 440:
        R = -(wavelength - 440) / (440 - 380)
        G = 0.0
        B = 1.0
    elif 440 < wavelength <= 490:
        R = 0.0
        G = (wavelength - 440) / (490 - 440)
        B = 1.0
    elif 490 < wavelength <= 510:
        R = 0.0
        G = 1.0
        B = -(wavelength - 510) / (510 - 490)
    elif 510 < wavelength <= 580:
        R = (wavelength - 510) / (580 - 510)
        G = 1.0
        B = 0.0
    elif 580 < wavelength <= 645:
        R = 1.0
        G = -(wavelength - 645) / (645 - 580)
        B = 0.0
    elif 645 < wavelength <= 780:
        R = 1.0
        G = 0.0
        B = 0.0

    if 380 <= wavelength <= 420:
        factor = 0.3 + 0.7 * (wavelength - 380) / (420 - 380)
    elif 420 < wavelength <= 700:
        factor = 1.0
    elif 700 < wavelength <= 780:
        factor = 0.3 + 0.7 * (780 - wavelength) / (780 - 700)

    R = (R * factor) ** gamma
    G = (G * factor) ** gamma
    B = (B * factor) ** gamma
    return (R, G, B)

# Prepare color map from visible spectrum
wavelengths = np.linspace(380, 780, 400)
colors = [wavelength_to_rgb(wl) for wl in wavelengths]
spec_cmap = ListedColormap(colors)

csv_folder = "/content/drive/MyDrive/191/Chlorophyll"
file_pattern = "*.csv"

for fname in glob.glob(os.path.join(csv_folder, file_pattern)):
    df = pd.read_csv(fname)
    cols = df.columns.tolist()

    wl_blank = df[cols[0]].astype(float)
    A_blank = df[cols[1]].astype(float)

    for i in range(1, len(cols) // 2):
        wl_col = wl_blank
        A_col = df[cols[2 * i + 1]].astype(float)
        A_corr = A_col - A_blank
        A_norm = (A_corr - A_corr.min()) / (A_corr.max() - A_corr.min())

        # Find local maxima
        peak_indices, _ = find_peaks(A_norm, prominence=0.01)  # You can tune prominence
        peak_wavelengths = wl_col.iloc[peak_indices]
        peak_values = A_norm.iloc[peak_indices]

        print(f"\n{os.path.basename(fname)} — {cols[2*i+1]}: Local Maxima")
        for wl, val in zip(peak_wavelengths, peak_values):
            print(f"  Max at {wl:.1f} nm → {val:.3f}")

        # Find global non-zero minimum before 650 nm
        mask_pre_650 = (wl_col < 650) & (A_norm > 0)
        A_pre_650 = A_norm[mask_pre_650]
        wl_pre_650 = wl_col[mask_pre_650]

        if not A_pre_650.empty:
            min_index = A_pre_650.idxmin()
            min_value = A_pre_650[min_index]
            min_wavelength = wl_col[min_index]
            print(f"{os.path.basename(fname)} — {cols[2*i+1]}: Global Non-zero Minimum Before 650 nm")
            print(f"  Min at {min_wavelength:.1f} nm → {min_value:.3f}")
        else:
            print(f"{os.path.basename(fname)} — {cols[2*i+1]}: No non-zero values found before 650 nm.")

        fig, ax = plt.subplots(figsize=(9, 5))
        ax.plot(wl_col, A_norm, color='blue', lw=1.5)
        # Highlight known chlorophyll absorption bands
        chlorophyll_bands = {
           'Chl a (blue)': 413,
           'Chl b (blue1)': 454,
           'Chl b (blue2)': 482,
           'Chl c (red)': 631,
           'Chl a (red)': 669
        }

        # Plot chlorophyll band markers (only label once)
        first = True
        for _, wl in chlorophyll_bands.items():
           if first:
                ax.axvline(x=wl, color='darkgreen', linestyle='--', lw=1, label='Reference Peaks')
                first = False
           else:
                ax.axvline(x=wl, color='darkgreen', linestyle='--', lw=1)

        #ax.set_title(f"{os.path.basename(fname)} — normalized {cols[2*i+1]}")
        ax.set_ylabel("Absorbance (normalized)")
        ax.set_xlim(380, 780)
        ax.set_ylim(0, 1)
        ax.grid(True)
        ax.set_xlabel('')

        # Add accurate spectrum color bar aligned with x-axis
        divider = make_axes_locatable(ax)
        cax = divider.append_axes("bottom", size="5%", pad=0.5)

        gradient = np.linspace(0, 1, len(wavelengths)).reshape(1, -1)
        cax.imshow(gradient, aspect='auto', cmap=spec_cmap,
                   extent=(380, 780, 0, 1))
        cax.set_yticks([])
        cax.set_xlabel("Wavelength (nm)")

        # Plot local maxima
        ax.plot(peak_wavelengths, peak_values, 'ro', label='Local Maxima')

        # Plot global non-zero minimum before 650 nm
        mask_pre_650 = (wl_col < 650) & (A_norm > 0)
        A_pre_650 = A_norm[mask_pre_650]
        if not A_pre_650.empty:
            min_index = A_pre_650.idxmin()
            min_value = A_pre_650[min_index]
            min_wavelength = wl_col[min_index]
            ax.plot(min_wavelength, min_value, 'gs', label='Global Min (<650 nm)')

        # Consolidate legend (remove duplicate labels)
        handles, labels = ax.get_legend_handles_labels()
        by_label = dict(zip(labels, handles))
        ax.legend(by_label.values(), by_label.keys(), loc='upper right', frameon=True)
                
        # Save the figure
        output_folder = os.path.join(csv_folder, "SavedPlots")
        os.makedirs(output_folder, exist_ok=True)

        spectrum_name = cols[2*i+1].replace(":", "_").replace("/", "_")  # Safe for filename
        base_name = os.path.splitext(os.path.basename(fname))[0]
        output_path = os.path.join(output_folder, f"{base_name}_{spectrum_name}.png")

        plt.savefig(output_path, dpi=300, bbox_inches='tight')

        plt.show()
